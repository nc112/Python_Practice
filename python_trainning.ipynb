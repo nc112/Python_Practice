{
 "cells": [
  {
   "cell_type": "markdown",
   "id": "89835bb1-3a34-481b-b1f6-779eacbc8d6f",
   "metadata": {},
   "source": [
    "## Research of passl-by-value and passl-by-reference topic\n",
    "> Test for all Python simple variable and complicated \n"
   ]
  },
  {
   "cell_type": "code",
   "execution_count": 30,
   "id": "c6c25b0e-ac78-44f0-a8ac-291098a1ddf4",
   "metadata": {},
   "outputs": [
    {
     "name": "stdout",
     "output_type": "stream",
     "text": [
      "################# Test for int #################\n",
      "a= 4\n",
      "a= 4 b= 4\n",
      "a= 5 b= 4\n",
      "################# end of test #################\n",
      "\n",
      "################# Test for float/double #################\n",
      "a= 4.1\n",
      "a= 4.1 b= 4.1\n",
      "a= 5.2 b= 4.1\n",
      "################# end of test #################\n",
      "\n",
      "################# Test for string #################\n",
      "a= this is a test string\n",
      "a= this is a test string b= this is a test string\n",
      "a= update!this is a test string b= this is a test string\n",
      "################# end of test #################\n",
      "\n",
      "################# Test for list #################\n",
      "type of a is: <class 'list'> a= ['a', 'b', 'c']\n",
      "a= ['a', 'b', 'c'] b= ['a', 'b', 'c']\n",
      "a= ['a', 'b', 'c', 'd'] b= ['a', 'b', 'c', 'd'] c= ['a', 'b', 'c'] d= ['a', 'b', 'c']\n",
      "################# end of test #################\n",
      "\n",
      "################# Test for dict #################\n",
      "a= {'name': 'lucy', 'age:': '30'}\n",
      "a= {'name': 'lucy', 'age:': '30'} b= {'name': 'lucy', 'age:': '30'}\n",
      "a= {'name': 'lucy', 'age:': '30', 'sex': 'female'} b= {'name': 'lucy', 'age:': '30', 'sex': 'female'} c= {'name': 'lucy', 'age:': '30'}\n",
      "################# end of test #################\n",
      "\n"
     ]
    }
   ],
   "source": [
    "'''\n",
    "Test of variable\n",
    "'''\n",
    "# int\n",
    "print('################# Test for int #################')\n",
    "a = 4\n",
    "print('a=',a)\n",
    "b = a\n",
    "print('a=', a, 'b=', b)\n",
    "a = 5\n",
    "print('a=', a, 'b=', b)\n",
    "print('################# end of test #################\\n')\n",
    "\n",
    "# float/double\n",
    "print('################# Test for float/double #################')\n",
    "a = 4.1\n",
    "print('a=',a)\n",
    "b = a\n",
    "print('a=', a, 'b=', b)\n",
    "a = 5.2\n",
    "print('a=', a, 'b=', b)\n",
    "print('################# end of test #################\\n')\n",
    "\n",
    "# string\n",
    "print('################# Test for string #################')\n",
    "a = 'this is a test string'\n",
    "print('a=',a)\n",
    "b = a\n",
    "print('a=', a, 'b=', b)\n",
    "a = 'update!' + a\n",
    "print('a=', a, 'b=', b)\n",
    "print('################# end of test #################\\n')\n",
    "\n",
    "# list\n",
    "print('################# Test for list #################')\n",
    "a = ['a','b','c']\n",
    "print('type of a is:', type(a), 'a=', a)\n",
    "b = a\n",
    "c = a[:]\n",
    "d = a.copy()\n",
    "print('a=', a, 'b=', b)\n",
    "\n",
    "a.append('d')\n",
    "print('a=', a, 'b=', b, 'c=', c, 'd=', d)\n",
    "print('################# end of test #################\\n')\n",
    "\n",
    "import copy\n",
    "# dict\n",
    "print('################# Test for dict #################')\n",
    "a = {'name': 'lucy', 'age:': '30'}\n",
    "print('a=',a)\n",
    "b = a\n",
    "c = copy.deepcopy(a)\n",
    "print('a=', a, 'b=', b)\n",
    "a['sex'] = 'female'\n",
    "print('a=', a, 'b=', b, 'c=', c)\n",
    "print('################# end of test #################\\n')"
   ]
  }
 ],
 "metadata": {
  "kernelspec": {
   "display_name": "Python 3",
   "language": "python",
   "name": "python3"
  },
  "language_info": {
   "codemirror_mode": {
    "name": "ipython",
    "version": 3
   },
   "file_extension": ".py",
   "mimetype": "text/x-python",
   "name": "python",
   "nbconvert_exporter": "python",
   "pygments_lexer": "ipython3",
   "version": "3.8.8"
  }
 },
 "nbformat": 4,
 "nbformat_minor": 5
}
